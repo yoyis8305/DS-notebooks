{
  "nbformat": 4,
  "nbformat_minor": 0,
  "metadata": {
    "colab": {
      "name": "recursos_proyecto_5.ipynb",
      "version": "0.3.2",
      "provenance": [],
      "toc_visible": true,
      "include_colab_link": true
    },
    "language_info": {
      "codemirror_mode": {
        "name": "ipython",
        "version": 3
      },
      "file_extension": ".py",
      "mimetype": "text/x-python",
      "name": "python",
      "nbconvert_exporter": "python",
      "pygments_lexer": "ipython3",
      "version": "3.7.0"
    },
    "kernelspec": {
      "display_name": "Python 3",
      "language": "python",
      "name": "python3"
    }
  },
  "cells": [
    {
      "cell_type": "markdown",
      "metadata": {
        "id": "view-in-github",
        "colab_type": "text"
      },
      "source": [
        "<a href=\"https://colab.research.google.com/github/MayorLazer/DS-notebooks/blob/master/recursos_proyecto_5.ipynb\" target=\"_parent\"><img src=\"https://colab.research.google.com/assets/colab-badge.svg\" alt=\"Open In Colab\"/></a>"
      ]
    },
    {
      "cell_type": "markdown",
      "metadata": {
        "id": "jvASnSC2nhmG",
        "colab_type": "text"
      },
      "source": [
        "# Proyecto 5: Análisis de sentimiento en reviews de películas"
      ]
    },
    {
      "cell_type": "markdown",
      "metadata": {
        "id": "lhrSezL2nhmI",
        "colab_type": "text"
      },
      "source": [
        "En este proyecto vamos a trabajar con un dataset de reviews de películas. El objectivo es clasificar cada comentario de acuerdo al sentimiento positivo o negativo hacia la película. Para hacerlo, vamos a trabajar con procesamiento de texto para luego aplicar las diferentes técnicas predictivas que hemos visto."
      ]
    },
    {
      "cell_type": "markdown",
      "metadata": {
        "id": "LygTso4enhmJ",
        "colab_type": "text"
      },
      "source": [
        "## Dataset"
      ]
    },
    {
      "cell_type": "markdown",
      "metadata": {
        "id": "Shr2xST_nhmJ",
        "colab_type": "text"
      },
      "source": [
        "En primer lugar, carguemos las reviews para comenzar a procesarlas. En este caso no tenemos un archivo `.csv`, sino un directorio estructurado de la siguiente forma: \n",
        "```\n",
        "movie_reviews/\n",
        "  neg/\n",
        "  pos/\n",
        "```\n",
        "`sklearn` nos provee de la función `load_files` que permite recorrer este tipo de estructuras. "
      ]
    },
    {
      "cell_type": "code",
      "metadata": {
        "id": "C0KBAzbRnhmL",
        "colab_type": "code",
        "colab": {}
      },
      "source": [
        "import warnings\n",
        "warnings.filterwarnings(\"ignore\")\n",
        "import sklearn\n",
        "from sklearn.datasets import load_files\n",
        "moviedir = r'./dataset/movie_reviews' \n",
        "movie_reviews = load_files(moviedir, shuffle=True)"
      ],
      "execution_count": 0,
      "outputs": []
    },
    {
      "cell_type": "markdown",
      "metadata": {
        "id": "VImTzED1nhmP",
        "colab_type": "text"
      },
      "source": [
        "Ahora en la variable `movies` tendremos guardadas las reviews (`movies.data`) y su sentimiento (`movies.target`).\n",
        "Veamos cuantas reviews tenemos en total:"
      ]
    },
    {
      "cell_type": "code",
      "metadata": {
        "id": "8JnF7T_UnhmQ",
        "colab_type": "code",
        "colab": {},
        "outputId": "558a9a1e-0b6c-4700-cba0-dc03427d3d84"
      },
      "source": [
        "print(\"Tenemos {} reviews, con clases {},\".format(len(movie_reviews.data), movie_reviews.target_names))"
      ],
      "execution_count": 0,
      "outputs": [
        {
          "output_type": "stream",
          "text": [
            "Tenemos 2000 reviews, con clases ['neg', 'pos'],\n"
          ],
          "name": "stdout"
        }
      ]
    },
    {
      "cell_type": "markdown",
      "metadata": {
        "id": "LvKg6BYvnhmW",
        "colab_type": "text"
      },
      "source": [
        "Analizando la estructura de los documentos, veamos como luce una muestra de `movies.data`:"
      ]
    },
    {
      "cell_type": "code",
      "metadata": {
        "id": "J4AEfF95nhmX",
        "colab_type": "code",
        "colab": {},
        "outputId": "ab8ea5e0-bfa1-4bdd-ff56-9d6cec5cece7"
      },
      "source": [
        "movie_reviews.data[0][:500]"
      ],
      "execution_count": 0,
      "outputs": [
        {
          "output_type": "execute_result",
          "data": {
            "text/plain": [
              "b\"arnold schwarzenegger has been an icon for action enthusiasts , since the late 80's , but lately his films have been very sloppy and the one-liners are getting worse . \\nit's hard seeing arnold as mr . freeze in batman and robin , especially when he says tons of ice jokes , but hey he got 15 million , what's it matter to him ? \\nonce again arnold has signed to do another expensive blockbuster , that can't compare with the likes of the terminator series , true lies and even eraser . \\nin this so cal\""
            ]
          },
          "metadata": {
            "tags": []
          },
          "execution_count": 3
        }
      ]
    },
    {
      "cell_type": "markdown",
      "metadata": {
        "id": "soAkzHy8nhmb",
        "colab_type": "text"
      },
      "source": [
        "Y ahora, con la propiedad `target` podemos ver la categoría asociada a esta review"
      ]
    },
    {
      "cell_type": "code",
      "metadata": {
        "id": "Zd7_DKzdnhmc",
        "colab_type": "code",
        "colab": {},
        "outputId": "7ab1898d-16af-4a4c-b5cf-aa4882d1630c"
      },
      "source": [
        "movie_reviews.target[0]"
      ],
      "execution_count": 0,
      "outputs": [
        {
          "output_type": "execute_result",
          "data": {
            "text/plain": [
              "0"
            ]
          },
          "metadata": {
            "tags": []
          },
          "execution_count": 4
        }
      ]
    },
    {
      "cell_type": "markdown",
      "metadata": {
        "id": "5bIk4wdHnhmg",
        "colab_type": "text"
      },
      "source": [
        "En este caso es un 0, es decir `neg`."
      ]
    },
    {
      "cell_type": "code",
      "metadata": {
        "id": "DlODLd-Inhmh",
        "colab_type": "code",
        "colab": {},
        "outputId": "937844fe-26bb-4d2d-dd34-e1af2f1589fc"
      },
      "source": [
        "movie_reviews.target_names[0]"
      ],
      "execution_count": 0,
      "outputs": [
        {
          "output_type": "execute_result",
          "data": {
            "text/plain": [
              "'neg'"
            ]
          },
          "metadata": {
            "tags": []
          },
          "execution_count": 5
        }
      ]
    },
    {
      "cell_type": "markdown",
      "metadata": {
        "id": "_tx-oIKXnhmo",
        "colab_type": "text"
      },
      "source": [
        "## Test & Train Split"
      ]
    },
    {
      "cell_type": "markdown",
      "metadata": {
        "id": "3ozACTQ5nhmp",
        "colab_type": "text"
      },
      "source": [
        "Antes de comenzar con el entrenamiento de los modelos probando distintos algoritmos para encontrar los mejores modelos, vamos a separar el conjunto de reviews en training y testing. "
      ]
    },
    {
      "cell_type": "code",
      "metadata": {
        "id": "hA48z3jVnhmp",
        "colab_type": "code",
        "colab": {}
      },
      "source": [
        "from sklearn.model_selection import train_test_split\n",
        "X_train, X_test, y_train, y_test = train_test_split(\n",
        "    movie_reviews.data, movie_reviews.target, test_size = 0.20, stratify=movie_reviews.target, random_state = 12\n",
        ")"
      ],
      "execution_count": 0,
      "outputs": []
    },
    {
      "cell_type": "markdown",
      "metadata": {
        "id": "49jvoar1nhmt",
        "colab_type": "text"
      },
      "source": [
        "## Preprocesamiento"
      ]
    },
    {
      "cell_type": "markdown",
      "metadata": {
        "id": "8SKxlszmnhmu",
        "colab_type": "text"
      },
      "source": [
        "Para trabajar con texto tenemos que realizar una serie de pasos antes de poder entrenar un modelo. Es decir, buscar la forma de convertir el texto a una representación numérica que pueda ser interpretable por los algoritmos de clasificación. \n",
        "Para ello vamos a realizar una serie de pasos.\n",
        "- Tokenizar el texto\n",
        "- Convertir a vectores de términos/documentos\n",
        "- Aplicar tfidf\n"
      ]
    },
    {
      "cell_type": "markdown",
      "metadata": {
        "id": "TWGjSH6Tnhmv",
        "colab_type": "text"
      },
      "source": [
        "Es importante destacar que el `fit` debe hacerse sobre el conjunto de `train` y no sobre el total, ya que `tfidf` tiene en cuenta la frecuencia de aparición de las palabras respecto al total del conjunto. Una vez que usamos el `fit` con el conjunto de entrenamiento podemos aplicar la transformación al conjunto de `test`. "
      ]
    },
    {
      "cell_type": "markdown",
      "metadata": {
        "id": "tfZOEt1Vnhmw",
        "colab_type": "text"
      },
      "source": [
        "**1) Vectorizá** los textos para obtener una matriz de términos/documentos utilizando td-idf. "
      ]
    },
    {
      "cell_type": "code",
      "metadata": {
        "id": "x4h7ii2onhmw",
        "colab_type": "code",
        "colab": {}
      },
      "source": [
        "# Realizá los pasos necesarios para vectorizar los conjuntos de entrenamiento y testeo en este celda\n",
        "from sklearn.feature_extraction.text import TfidfVectorizer\n",
        "\n",
        "corpus = X_train\n",
        "corpus_test = X_test\n",
        "\n",
        "# Definir bien esta parte porque el default rompe abajo\n",
        "vectorizer = TfidfVectorizer(\n",
        "    input=corpus, \n",
        "    analyzer='word',\n",
        "    stop_words='english'\n",
        ")\n",
        "vect_train = vectorizer.fit_transform(corpus)\n",
        "vect_test =  vectorizer.transform(corpus_test)"
      ],
      "execution_count": 0,
      "outputs": []
    },
    {
      "cell_type": "code",
      "metadata": {
        "id": "sApoTBfgnhmz",
        "colab_type": "code",
        "colab": {},
        "outputId": "061acc87-a531-4a4f-da67-bae255725514"
      },
      "source": [
        "vect_train[50].todense()"
      ],
      "execution_count": 0,
      "outputs": [
        {
          "output_type": "execute_result",
          "data": {
            "text/plain": [
              "matrix([[0.        , 0.        , 0.        , ..., 0.        , 0.14562355,\n",
              "         0.        ]])"
            ]
          },
          "metadata": {
            "tags": []
          },
          "execution_count": 8
        }
      ]
    },
    {
      "cell_type": "markdown",
      "metadata": {
        "id": "2mNnAgYrnhm2",
        "colab_type": "text"
      },
      "source": [
        "### Dimensión de la matriz de términos\n",
        "Una vez vectorizados los documentos veamos qué forma tiene la matriz resultante"
      ]
    },
    {
      "cell_type": "code",
      "metadata": {
        "id": "6H4_rl-Unhm3",
        "colab_type": "code",
        "colab": {},
        "outputId": "f2b0ecaa-4e8c-4a29-8b1c-d9dc915cf986"
      },
      "source": [
        "vect_train.shape"
      ],
      "execution_count": 0,
      "outputs": [
        {
          "output_type": "execute_result",
          "data": {
            "text/plain": [
              "(1600, 36038)"
            ]
          },
          "metadata": {
            "tags": []
          },
          "execution_count": 9
        }
      ]
    },
    {
      "cell_type": "markdown",
      "metadata": {
        "id": "1cvIhFdFnhm7",
        "colab_type": "text"
      },
      "source": [
        "__¿ Por qué tiene estas dimensiones ?__"
      ]
    },
    {
      "cell_type": "markdown",
      "metadata": {
        "id": "jrR7q7gHnhm8",
        "colab_type": "text"
      },
      "source": [
        "Responder."
      ]
    },
    {
      "cell_type": "markdown",
      "metadata": {
        "id": "UVbS85ylnhm8",
        "colab_type": "text"
      },
      "source": [
        "Porque el resultado es una matriz de términos por documentos. Por cada término existente en el dataset habrá una columna, ya que no se realizó ningún tipo de filtrado."
      ]
    },
    {
      "cell_type": "markdown",
      "metadata": {
        "id": "fp8RgdpCnhm9",
        "colab_type": "text"
      },
      "source": [
        "### Matriz de confusión \n",
        "Una forma de ver fácilmente el resultado de un clasificador es utilizando una matriz de confusión. A continuación\n",
        "se presenta una función para visualizar una matriz de confusión utilizando `matplotlib`."
      ]
    },
    {
      "cell_type": "code",
      "metadata": {
        "id": "f8P_3Psynhm-",
        "colab_type": "code",
        "colab": {}
      },
      "source": [
        "import numpy as np\n",
        "import itertools\n",
        "import matplotlib.pylab as plt\n",
        "%matplotlib inline  \n",
        "from sklearn.metrics import confusion_matrix\n",
        "\n",
        "def plot_confusion_matrix(cm, classes,\n",
        "                          normalize=False,\n",
        "                          title='Confusion matrix',\n",
        "                          cmap=plt.cm.Blues):\n",
        "    \"\"\"\n",
        "    This function prints and plots the confusion matrix.\n",
        "    Normalization can be applied by setting `normalize=True`.\n",
        "    \"\"\"\n",
        "    if normalize:\n",
        "        cm = cm.astype('float') / cm.sum(axis=1)[:, np.newaxis]\n",
        "        print(\"Normalized confusion matrix\")\n",
        "    else:\n",
        "        print('Confusion matrix, without normalization')\n",
        "\n",
        "    print(cm)\n",
        "\n",
        "    plt.imshow(cm, interpolation='nearest', cmap=cmap)\n",
        "    plt.title(title)\n",
        "    plt.colorbar()\n",
        "    tick_marks = np.arange(len(classes))\n",
        "    plt.xticks(tick_marks, classes, rotation=45)\n",
        "    plt.yticks(tick_marks, classes)\n",
        "\n",
        "    fmt = '.2f' if normalize else 'd'\n",
        "    thresh = cm.max() / 2.\n",
        "    for i, j in itertools.product(range(cm.shape[0]), range(cm.shape[1])):\n",
        "        plt.text(j, i, format(cm[i, j], fmt),\n",
        "                 horizontalalignment=\"center\",\n",
        "                 color=\"white\" if cm[i, j] > thresh else \"black\")\n",
        "\n",
        "    plt.tight_layout()\n",
        "    plt.ylabel('True label')\n",
        "    plt.xlabel('Predicted label')\n",
        "    plt.show()"
      ],
      "execution_count": 0,
      "outputs": []
    },
    {
      "cell_type": "markdown",
      "metadata": {
        "id": "c7GVbS_knhnB",
        "colab_type": "text"
      },
      "source": [
        "### Funcion Mostrar Resultados"
      ]
    },
    {
      "cell_type": "code",
      "metadata": {
        "id": "aixt_RM7nhnC",
        "colab_type": "code",
        "colab": {}
      },
      "source": [
        "def show_grid_clf_results(grid_search):\n",
        "    # Grid Score Results\n",
        "    print('Mean scores: \\n',   grid_search.cv_results_['mean_train_score'])\n",
        "    print('Best Param: \\n',     grid_search.best_params_)\n",
        "    print('Best Estimator: \\n', grid_search.best_estimator_)\n",
        "\n",
        "    # Confussion Matrix   \n",
        "    cm = confusion_matrix(y_test, grid_search.best_estimator_.predict(vect_test))\n",
        "    plot_confusion_matrix(cm, movie_reviews.target_names)\n",
        "\n",
        "    # Mostrá el roc_auc score y el classification_report en esta celda\n",
        "    from sklearn.metrics import classification_report\n",
        "    print( 'Classification Report: \\n', classification_report(y_test, grid_search.best_estimator_.predict(vect_test), target_names=movie_reviews.target_names) )\n",
        "    \n",
        "    from sklearn.metrics import roc_auc_score\n",
        "    print('Roc auc Score: \\n', roc_auc_score(movie_reviews.target_names, grid_search.best_estimator_.predict_proba(vect_test)[:,1]))\n",
        "    #  VER COMO HAGO ESTO https://scikit-learn.org/stable/modules/generated/sklearn.metrics.roc_auc_score.html\n",
        "    "
      ],
      "execution_count": 0,
      "outputs": []
    },
    {
      "cell_type": "code",
      "metadata": {
        "id": "l7rgN9j9nhnG",
        "colab_type": "code",
        "colab": {}
      },
      "source": [
        "grids_search = [] \n",
        "# Se va a usar para loopear los scores luego"
      ],
      "execution_count": 0,
      "outputs": []
    },
    {
      "cell_type": "markdown",
      "metadata": {
        "id": "c-rcjXqSnhnP",
        "colab_type": "text"
      },
      "source": [
        "## Entrenando los modelos\n",
        "Una vez que tenemos una matriz con los vectores correspondientes a los documentos luego de aplicarse td-idf podemos comenzar con el proceso de entrenamiento de los modelos. Para eso, vamos a comparar diferentes algoritmos vistos como SVM, Random Forest, AdaBoost, Voting. Y todos los algoritmos complementarios que se quieran introducir. \n",
        "Para el entrenamiento de los modelos usaremos GridSearch recorriendo una lista de parámetros según corresponda a cada algoritmo. Además usaremos 5-fold CV y el scoring estará dado por el área bajo la curva roc."
      ]
    },
    {
      "cell_type": "markdown",
      "metadata": {
        "id": "W9D_OTnLnhnQ",
        "colab_type": "text"
      },
      "source": [
        "### Support Vector Machines (SVM)"
      ]
    },
    {
      "cell_type": "markdown",
      "metadata": {
        "id": "S5t41RFRnhnQ",
        "colab_type": "text"
      },
      "source": [
        "__Ajustar un SVM (kernel lineal) al conjunto de datos de entrenamiento y devolver la matriz de confusión en testing.__\n",
        "\n",
        "Basándonos en el paper https://www.csie.ntu.edu.tw/~cjlin/papers/guide/guide.pdf, vamos a utilizar un kernel lineal. Al tener menos instancias que features este es el procedimiento recomendado. \n",
        "\n",
        "Nuestro espacio de parámetros para recorrer de forma exhaustiva utilizando GridSearch será el siguiente:\n",
        "\n",
        "* C = [0.001, 0.01, 0.1, 1, 10]\n",
        "* loss = ['hinge', 'squared_hinge'] \n",
        "\n",
        "**2) Entrenar** un modelo utilizando `Grid Search` y el clasificador `LinearSVC` con `5-fold` cross validation y que utilice como `scoring` el área bajo la curva roc."
      ]
    },
    {
      "cell_type": "code",
      "metadata": {
        "id": "utXqYFxsnhnS",
        "colab_type": "code",
        "colab": {}
      },
      "source": [
        "# Realizá el entrenamiento en esta celda\n",
        "from sklearn.svm import LinearSVC\n",
        "from sklearn import svm\n",
        "from sklearn.model_selection import GridSearchCV\n",
        "from sklearn.metrics import roc_curve, auc, roc_auc_score\n",
        "\n",
        "# Model \n",
        "clf_svc = LinearSVC()\n",
        "\n",
        "# Grid Search\n",
        "parameters = [{'C':[0.001, 0.01, 0.1, 1, 10], 'loss':['hinge', 'squared_hinge']}]\n",
        "grid_search_svc = GridSearchCV(\n",
        "    estimator=clf_svc, \n",
        "    param_grid=parameters, \n",
        "    cv=5, \n",
        "    scoring='roc_auc',\n",
        "    return_train_score=True\n",
        ")\n",
        "grid_search_svc.fit(vect_train, y_train)\n",
        "\n",
        "# Add to Grids List\n",
        "grids_search.append({'name': {'linearSvc'}, 'model': {grid_search_svc}})"
      ],
      "execution_count": 0,
      "outputs": []
    },
    {
      "cell_type": "markdown",
      "metadata": {
        "id": "8n3NUqUtnhnU",
        "colab_type": "text"
      },
      "source": [
        "**3) Mostrá** los resultados de la predicción del clasificador `LinearSVC` sobre el conjunto de test con una matriz de confusión"
      ]
    },
    {
      "cell_type": "code",
      "metadata": {
        "id": "OxCc-LsmnhnV",
        "colab_type": "code",
        "colab": {},
        "outputId": "0de04417-dd8d-45fc-e2a9-80b6277d368b"
      },
      "source": [
        "# Mostrá la matriz de confusión en esta celda\n",
        "show_grid_clf_results(grid_search_svc)"
      ],
      "execution_count": 0,
      "outputs": [
        {
          "output_type": "stream",
          "text": [
            "Mean scores: \n",
            " [0.98210742 0.98259912 0.98210742 0.98588135 0.98210742 0.99789648\n",
            " 0.99986084 1.         1.         1.        ]\n",
            "Best Param: \n",
            " {'C': 10, 'loss': 'squared_hinge'}\n",
            "Best Estimator: \n",
            " LinearSVC(C=10, class_weight=None, dual=True, fit_intercept=True,\n",
            "     intercept_scaling=1, loss='squared_hinge', max_iter=1000,\n",
            "     multi_class='ovr', penalty='l2', random_state=None, tol=0.0001,\n",
            "     verbose=0)\n",
            "Confusion matrix, without normalization\n",
            "[[159  41]\n",
            " [ 26 174]]\n"
          ],
          "name": "stdout"
        },
        {
          "output_type": "display_data",
          "data": {
            "image/png": "[encoded data removed]",
            "text/plain": [
              "<Figure size 432x288 with 2 Axes>"
            ]
          },
          "metadata": {
            "tags": [],
            "needs_background": "light"
          }
        },
        {
          "output_type": "stream",
          "text": [
            "Classification Report: \n",
            "              precision    recall  f1-score   support\n",
            "\n",
            "        neg       0.86      0.80      0.83       200\n",
            "        pos       0.81      0.87      0.84       200\n",
            "\n",
            "avg / total       0.83      0.83      0.83       400\n",
            "\n"
          ],
          "name": "stdout"
        },
        {
          "output_type": "error",
          "ename": "AttributeError",
          "evalue": "'LinearSVC' object has no attribute 'predict_proba'",
          "traceback": [
            "\u001b[1;31m---------------------------------------------------------------------------\u001b[0m",
            "\u001b[1;31mAttributeError\u001b[0m                            Traceback (most recent call last)",
            "\u001b[1;32m<ipython-input-16-6aef8b5b0a0a>\u001b[0m in \u001b[0;36m<module>\u001b[1;34m()\u001b[0m\n\u001b[0;32m      1\u001b[0m \u001b[1;31m# Mostrá la matriz de confusión en esta celda\u001b[0m\u001b[1;33m\u001b[0m\u001b[1;33m\u001b[0m\u001b[0m\n\u001b[1;32m----> 2\u001b[1;33m \u001b[0mshow_grid_clf_results\u001b[0m\u001b[1;33m(\u001b[0m\u001b[0mgrid_search_svc\u001b[0m\u001b[1;33m)\u001b[0m\u001b[1;33m\u001b[0m\u001b[0m\n\u001b[0m",
            "\u001b[1;32m<ipython-input-15-d8587e1c8d4b>\u001b[0m in \u001b[0;36mshow_grid_clf_results\u001b[1;34m(grid_search)\u001b[0m\n\u001b[0;32m     14\u001b[0m \u001b[1;33m\u001b[0m\u001b[0m\n\u001b[0;32m     15\u001b[0m     \u001b[1;32mfrom\u001b[0m \u001b[0msklearn\u001b[0m\u001b[1;33m.\u001b[0m\u001b[0mmetrics\u001b[0m \u001b[1;32mimport\u001b[0m \u001b[0mroc_auc_score\u001b[0m\u001b[1;33m\u001b[0m\u001b[0m\n\u001b[1;32m---> 16\u001b[1;33m     \u001b[0mprint\u001b[0m\u001b[1;33m(\u001b[0m\u001b[1;34m'Roc auc Score: \\n'\u001b[0m\u001b[1;33m,\u001b[0m \u001b[0mroc_auc_score\u001b[0m\u001b[1;33m(\u001b[0m\u001b[0mmovie_reviews\u001b[0m\u001b[1;33m.\u001b[0m\u001b[0mtarget_names\u001b[0m\u001b[1;33m,\u001b[0m \u001b[0mgrid_search\u001b[0m\u001b[1;33m.\u001b[0m\u001b[0mbest_estimator_\u001b[0m\u001b[1;33m.\u001b[0m\u001b[0mpredict_proba\u001b[0m\u001b[1;33m(\u001b[0m\u001b[0mvect_test\u001b[0m\u001b[1;33m)\u001b[0m\u001b[1;33m[\u001b[0m\u001b[1;33m:\u001b[0m\u001b[1;33m,\u001b[0m\u001b[1;36m1\u001b[0m\u001b[1;33m]\u001b[0m\u001b[1;33m)\u001b[0m\u001b[1;33m)\u001b[0m\u001b[1;33m\u001b[0m\u001b[0m\n\u001b[0m\u001b[0;32m     17\u001b[0m     \u001b[1;31m#  VER COMO HAGO ESTO https://scikit-learn.org/stable/modules/generated/sklearn.metrics.roc_auc_score.html\u001b[0m\u001b[1;33m\u001b[0m\u001b[1;33m\u001b[0m\u001b[0m\n\u001b[0;32m     18\u001b[0m \u001b[1;33m\u001b[0m\u001b[0m\n",
            "\u001b[1;31mAttributeError\u001b[0m: 'LinearSVC' object has no attribute 'predict_proba'"
          ]
        }
      ]
    },
    {
      "cell_type": "markdown",
      "metadata": {
        "id": "51tjqpMcnhnb",
        "colab_type": "text"
      },
      "source": [
        "**4) Calcular** el área bajo la curva ROC (AUC) en el conjunto de testing para el modelo y mostrá el `classification_report`"
      ]
    },
    {
      "cell_type": "markdown",
      "metadata": {
        "id": "0oIc53Fenhnc",
        "colab_type": "text"
      },
      "source": [
        "### Random Forests\n"
      ]
    },
    {
      "cell_type": "markdown",
      "metadata": {
        "id": "52qHZ2jsnhnc",
        "colab_type": "text"
      },
      "source": [
        "El siguiente modelo que vamos a entrenar es utilizando la técnica de Random Forest. \n",
        "\n",
        "__5) Usando grid search__ con cross validation (5 folds), encontrar el mejor modelo según el AUC dado el siguiente espacio de búsqueda:\n",
        "\n",
        "* n_estimators = [100, 500, 1000]\n",
        "* max_depth: [3, 7, None]\n",
        "* min_samples_split: [2, 3, 10]\n",
        "* bootstrap: [True, False]\n",
        "* criterion: [\"gini\", \"entropy\"]\n",
        "\n",
        "(puede tardar un poco la ejecución dado el tamaño del dataset)"
      ]
    },
    {
      "cell_type": "code",
      "metadata": {
        "id": "4SnVKBQinhne",
        "colab_type": "code",
        "colab": {},
        "outputId": "1a64b08f-c0ec-44f5-9b56-58e72ff64c2c"
      },
      "source": [
        "# Realizá el entrenamiento en esta celda\n",
        "from sklearn.ensemble import RandomForestClassifier\n",
        "from sklearn.model_selection import GridSearchCV\n",
        "from sklearn.metrics import roc_curve, auc, roc_auc_score\n",
        "\n",
        "# Classifier\n",
        "clf_rf = RandomForestClassifier()\n",
        "\n",
        "# Grid Search\n",
        "parameters = [{\n",
        "    'n_estimators': [100, 500, 1000],\n",
        "    'max_depth': [3, 7, None],\n",
        "    'min_samples_split': [2, 3, 10],\n",
        "    'bootstrap': [True, False],\n",
        "    'criterion': [\"gini\", \"entropy\"],\n",
        "}]\n",
        "grid_search_rf = GridSearchCV(\n",
        "    estimator=clf_rf, \n",
        "    param_grid=parameters, \n",
        "    cv=5, \n",
        "    scoring='roc_auc',\n",
        "    n_jobs=-1\n",
        ")\n",
        "grid_search_rf.fit(vect_train, y_train)\n",
        "\n",
        "# Add to Grids List\n",
        "grids_search.append({'name': {'Random Forest'}, 'model': {grid_search_rf}})"
      ],
      "execution_count": 0,
      "outputs": [
        {
          "output_type": "stream",
          "text": [
            "C:\\Users\\sebasmarto\\Anaconda3\\lib\\site-packages\\sklearn\\ensemble\\weight_boosting.py:29: DeprecationWarning: numpy.core.umath_tests is an internal NumPy module and should not be imported. It will be removed in a future NumPy release.\n",
            "  from numpy.core.umath_tests import inner1d\n"
          ],
          "name": "stderr"
        }
      ]
    },
    {
      "cell_type": "markdown",
      "metadata": {
        "id": "uJhk91dUnhnh",
        "colab_type": "text"
      },
      "source": [
        "**6) Repetir** los mismos pasos utilizados con el anterior modelo pero esta vez para `Random Forest`. Es decir, mostrar la matriz de confusión, scores, etc"
      ]
    },
    {
      "cell_type": "code",
      "metadata": {
        "id": "5fVQ2XvCnhni",
        "colab_type": "code",
        "colab": {},
        "outputId": "53988ae5-dda7-410b-e5a0-5ba544f8f2c7"
      },
      "source": [
        "show_grid_clf_results(grid_search_rf)"
      ],
      "execution_count": 0,
      "outputs": [
        {
          "output_type": "stream",
          "text": [
            "Mean scores: \n",
            " [0.96134375 0.97936963 0.98239844 0.95922754 0.97895557 0.98176025\n",
            " 0.95866992 0.97860205 0.97971338 0.99450146 0.99786865 0.99844629\n",
            " 0.99371875 0.99769873 0.99852441 0.99255957 0.9975625  0.99792529\n",
            " 1.         1.         1.         1.         1.         1.\n",
            " 1.         1.         1.         0.96084229 0.98142725 0.98335303\n",
            " 0.95965234 0.97984961 0.98409521 0.96075488 0.9819375  0.98292627\n",
            " 0.99215576 0.99782324 0.99814795 0.99296729 0.99724072 0.99775537\n",
            " 0.99149512 0.99698682 0.99746729 1.         1.         1.\n",
            " 1.         1.         1.         1.         1.         1.\n",
            " 0.971146   0.98319092 0.98386035 0.970854   0.98265234 0.98438721\n",
            " 0.96858447 0.98357471 0.98465088 0.99852686 0.99956055 0.99964893\n",
            " 0.99822998 0.9995752  0.9996084  0.997875   0.99924561 0.99932764\n",
            " 1.         1.         1.         1.         1.         1.\n",
            " 1.         1.         1.         0.96861621 0.98280078 0.98510498\n",
            " 0.96845996 0.98397021 0.98485205 0.97174365 0.9843418  0.98473584\n",
            " 0.99757471 0.99946387 0.99937109 0.99794092 0.99907227 0.99933203\n",
            " 0.99747656 0.99901367 0.99923584 1.         1.         1.\n",
            " 1.         1.         1.         1.         1.         1.        ]\n",
            "Best Param: \n",
            " {'bootstrap': False, 'criterion': 'entropy', 'max_depth': None, 'min_samples_split': 2, 'n_estimators': 1000}\n",
            "Best Estimator: \n",
            " RandomForestClassifier(bootstrap=False, class_weight=None,\n",
            "            criterion='entropy', max_depth=None, max_features='auto',\n",
            "            max_leaf_nodes=None, min_impurity_decrease=0.0,\n",
            "            min_impurity_split=None, min_samples_leaf=1,\n",
            "            min_samples_split=2, min_weight_fraction_leaf=0.0,\n",
            "            n_estimators=1000, n_jobs=1, oob_score=False,\n",
            "            random_state=None, verbose=0, warm_start=False)\n",
            "Confusion matrix, without normalization\n",
            "[[176  24]\n",
            " [ 41 159]]\n"
          ],
          "name": "stdout"
        },
        {
          "output_type": "display_data",
          "data": {
            "image/png": "[encoded data removed]",
            "text/plain": [
              "<Figure size 432x288 with 2 Axes>"
            ]
          },
          "metadata": {
            "tags": [],
            "needs_background": "light"
          }
        },
        {
          "output_type": "stream",
          "text": [
            "Classification Report: \n",
            "              precision    recall  f1-score   support\n",
            "\n",
            "        neg       0.81      0.88      0.84       200\n",
            "        pos       0.87      0.80      0.83       200\n",
            "\n",
            "avg / total       0.84      0.84      0.84       400\n",
            "\n"
          ],
          "name": "stdout"
        },
        {
          "output_type": "error",
          "ename": "ValueError",
          "evalue": "Found input variables with inconsistent numbers of samples: [2, 400]",
          "traceback": [
            "\u001b[1;31m---------------------------------------------------------------------------\u001b[0m",
            "\u001b[1;31mValueError\u001b[0m                                Traceback (most recent call last)",
            "\u001b[1;32m<ipython-input-18-338c58638462>\u001b[0m in \u001b[0;36m<module>\u001b[1;34m()\u001b[0m\n\u001b[1;32m----> 1\u001b[1;33m \u001b[0mshow_grid_clf_results\u001b[0m\u001b[1;33m(\u001b[0m\u001b[0mgrid_search_rf\u001b[0m\u001b[1;33m)\u001b[0m\u001b[1;33m\u001b[0m\u001b[0m\n\u001b[0m",
            "\u001b[1;32m<ipython-input-15-d8587e1c8d4b>\u001b[0m in \u001b[0;36mshow_grid_clf_results\u001b[1;34m(grid_search)\u001b[0m\n\u001b[0;32m     14\u001b[0m \u001b[1;33m\u001b[0m\u001b[0m\n\u001b[0;32m     15\u001b[0m     \u001b[1;32mfrom\u001b[0m \u001b[0msklearn\u001b[0m\u001b[1;33m.\u001b[0m\u001b[0mmetrics\u001b[0m \u001b[1;32mimport\u001b[0m \u001b[0mroc_auc_score\u001b[0m\u001b[1;33m\u001b[0m\u001b[0m\n\u001b[1;32m---> 16\u001b[1;33m     \u001b[0mprint\u001b[0m\u001b[1;33m(\u001b[0m\u001b[1;34m'Roc auc Score: \\n'\u001b[0m\u001b[1;33m,\u001b[0m \u001b[0mroc_auc_score\u001b[0m\u001b[1;33m(\u001b[0m\u001b[0mmovie_reviews\u001b[0m\u001b[1;33m.\u001b[0m\u001b[0mtarget_names\u001b[0m\u001b[1;33m,\u001b[0m \u001b[0mgrid_search\u001b[0m\u001b[1;33m.\u001b[0m\u001b[0mbest_estimator_\u001b[0m\u001b[1;33m.\u001b[0m\u001b[0mpredict_proba\u001b[0m\u001b[1;33m(\u001b[0m\u001b[0mvect_test\u001b[0m\u001b[1;33m)\u001b[0m\u001b[1;33m[\u001b[0m\u001b[1;33m:\u001b[0m\u001b[1;33m,\u001b[0m\u001b[1;36m1\u001b[0m\u001b[1;33m]\u001b[0m\u001b[1;33m)\u001b[0m\u001b[1;33m)\u001b[0m\u001b[1;33m\u001b[0m\u001b[0m\n\u001b[0m\u001b[0;32m     17\u001b[0m     \u001b[1;31m#  VER COMO HAGO ESTO https://scikit-learn.org/stable/modules/generated/sklearn.metrics.roc_auc_score.html\u001b[0m\u001b[1;33m\u001b[0m\u001b[1;33m\u001b[0m\u001b[0m\n\u001b[0;32m     18\u001b[0m \u001b[1;33m\u001b[0m\u001b[0m\n",
            "\u001b[1;32m~\\Anaconda3\\lib\\site-packages\\sklearn\\metrics\\ranking.py\u001b[0m in \u001b[0;36mroc_auc_score\u001b[1;34m(y_true, y_score, average, sample_weight)\u001b[0m\n\u001b[0;32m    275\u001b[0m     return _average_binary_score(\n\u001b[0;32m    276\u001b[0m         \u001b[0m_binary_roc_auc_score\u001b[0m\u001b[1;33m,\u001b[0m \u001b[0my_true\u001b[0m\u001b[1;33m,\u001b[0m \u001b[0my_score\u001b[0m\u001b[1;33m,\u001b[0m \u001b[0maverage\u001b[0m\u001b[1;33m,\u001b[0m\u001b[1;33m\u001b[0m\u001b[0m\n\u001b[1;32m--> 277\u001b[1;33m         sample_weight=sample_weight)\n\u001b[0m\u001b[0;32m    278\u001b[0m \u001b[1;33m\u001b[0m\u001b[0m\n\u001b[0;32m    279\u001b[0m \u001b[1;33m\u001b[0m\u001b[0m\n",
            "\u001b[1;32m~\\Anaconda3\\lib\\site-packages\\sklearn\\metrics\\base.py\u001b[0m in \u001b[0;36m_average_binary_score\u001b[1;34m(binary_metric, y_true, y_score, average, sample_weight)\u001b[0m\n\u001b[0;32m     73\u001b[0m \u001b[1;33m\u001b[0m\u001b[0m\n\u001b[0;32m     74\u001b[0m     \u001b[1;32mif\u001b[0m \u001b[0my_type\u001b[0m \u001b[1;33m==\u001b[0m \u001b[1;34m\"binary\"\u001b[0m\u001b[1;33m:\u001b[0m\u001b[1;33m\u001b[0m\u001b[0m\n\u001b[1;32m---> 75\u001b[1;33m         \u001b[1;32mreturn\u001b[0m \u001b[0mbinary_metric\u001b[0m\u001b[1;33m(\u001b[0m\u001b[0my_true\u001b[0m\u001b[1;33m,\u001b[0m \u001b[0my_score\u001b[0m\u001b[1;33m,\u001b[0m \u001b[0msample_weight\u001b[0m\u001b[1;33m=\u001b[0m\u001b[0msample_weight\u001b[0m\u001b[1;33m)\u001b[0m\u001b[1;33m\u001b[0m\u001b[0m\n\u001b[0m\u001b[0;32m     76\u001b[0m \u001b[1;33m\u001b[0m\u001b[0m\n\u001b[0;32m     77\u001b[0m     \u001b[0mcheck_consistent_length\u001b[0m\u001b[1;33m(\u001b[0m\u001b[0my_true\u001b[0m\u001b[1;33m,\u001b[0m \u001b[0my_score\u001b[0m\u001b[1;33m,\u001b[0m \u001b[0msample_weight\u001b[0m\u001b[1;33m)\u001b[0m\u001b[1;33m\u001b[0m\u001b[0m\n",
            "\u001b[1;32m~\\Anaconda3\\lib\\site-packages\\sklearn\\metrics\\ranking.py\u001b[0m in \u001b[0;36m_binary_roc_auc_score\u001b[1;34m(y_true, y_score, sample_weight)\u001b[0m\n\u001b[0;32m    270\u001b[0m \u001b[1;33m\u001b[0m\u001b[0m\n\u001b[0;32m    271\u001b[0m         fpr, tpr, tresholds = roc_curve(y_true, y_score,\n\u001b[1;32m--> 272\u001b[1;33m                                         sample_weight=sample_weight)\n\u001b[0m\u001b[0;32m    273\u001b[0m         \u001b[1;32mreturn\u001b[0m \u001b[0mauc\u001b[0m\u001b[1;33m(\u001b[0m\u001b[0mfpr\u001b[0m\u001b[1;33m,\u001b[0m \u001b[0mtpr\u001b[0m\u001b[1;33m,\u001b[0m \u001b[0mreorder\u001b[0m\u001b[1;33m=\u001b[0m\u001b[1;32mTrue\u001b[0m\u001b[1;33m)\u001b[0m\u001b[1;33m\u001b[0m\u001b[0m\n\u001b[0;32m    274\u001b[0m \u001b[1;33m\u001b[0m\u001b[0m\n",
            "\u001b[1;32m~\\Anaconda3\\lib\\site-packages\\sklearn\\metrics\\ranking.py\u001b[0m in \u001b[0;36mroc_curve\u001b[1;34m(y_true, y_score, pos_label, sample_weight, drop_intermediate)\u001b[0m\n\u001b[0;32m    532\u001b[0m     \"\"\"\n\u001b[0;32m    533\u001b[0m     fps, tps, thresholds = _binary_clf_curve(\n\u001b[1;32m--> 534\u001b[1;33m         y_true, y_score, pos_label=pos_label, sample_weight=sample_weight)\n\u001b[0m\u001b[0;32m    535\u001b[0m \u001b[1;33m\u001b[0m\u001b[0m\n\u001b[0;32m    536\u001b[0m     \u001b[1;31m# Attempt to drop thresholds corresponding to points in between and\u001b[0m\u001b[1;33m\u001b[0m\u001b[1;33m\u001b[0m\u001b[0m\n",
            "\u001b[1;32m~\\Anaconda3\\lib\\site-packages\\sklearn\\metrics\\ranking.py\u001b[0m in \u001b[0;36m_binary_clf_curve\u001b[1;34m(y_true, y_score, pos_label, sample_weight)\u001b[0m\n\u001b[0;32m    318\u001b[0m         \u001b[1;32mraise\u001b[0m \u001b[0mValueError\u001b[0m\u001b[1;33m(\u001b[0m\u001b[1;34m\"{0} format is not supported\"\u001b[0m\u001b[1;33m.\u001b[0m\u001b[0mformat\u001b[0m\u001b[1;33m(\u001b[0m\u001b[0my_type\u001b[0m\u001b[1;33m)\u001b[0m\u001b[1;33m)\u001b[0m\u001b[1;33m\u001b[0m\u001b[0m\n\u001b[0;32m    319\u001b[0m \u001b[1;33m\u001b[0m\u001b[0m\n\u001b[1;32m--> 320\u001b[1;33m     \u001b[0mcheck_consistent_length\u001b[0m\u001b[1;33m(\u001b[0m\u001b[0my_true\u001b[0m\u001b[1;33m,\u001b[0m \u001b[0my_score\u001b[0m\u001b[1;33m,\u001b[0m \u001b[0msample_weight\u001b[0m\u001b[1;33m)\u001b[0m\u001b[1;33m\u001b[0m\u001b[0m\n\u001b[0m\u001b[0;32m    321\u001b[0m     \u001b[0my_true\u001b[0m \u001b[1;33m=\u001b[0m \u001b[0mcolumn_or_1d\u001b[0m\u001b[1;33m(\u001b[0m\u001b[0my_true\u001b[0m\u001b[1;33m)\u001b[0m\u001b[1;33m\u001b[0m\u001b[0m\n\u001b[0;32m    322\u001b[0m     \u001b[0my_score\u001b[0m \u001b[1;33m=\u001b[0m \u001b[0mcolumn_or_1d\u001b[0m\u001b[1;33m(\u001b[0m\u001b[0my_score\u001b[0m\u001b[1;33m)\u001b[0m\u001b[1;33m\u001b[0m\u001b[0m\n",
            "\u001b[1;32m~\\Anaconda3\\lib\\site-packages\\sklearn\\utils\\validation.py\u001b[0m in \u001b[0;36mcheck_consistent_length\u001b[1;34m(*arrays)\u001b[0m\n\u001b[0;32m    202\u001b[0m     \u001b[1;32mif\u001b[0m \u001b[0mlen\u001b[0m\u001b[1;33m(\u001b[0m\u001b[0muniques\u001b[0m\u001b[1;33m)\u001b[0m \u001b[1;33m>\u001b[0m \u001b[1;36m1\u001b[0m\u001b[1;33m:\u001b[0m\u001b[1;33m\u001b[0m\u001b[0m\n\u001b[0;32m    203\u001b[0m         raise ValueError(\"Found input variables with inconsistent numbers of\"\n\u001b[1;32m--> 204\u001b[1;33m                          \" samples: %r\" % [int(l) for l in lengths])\n\u001b[0m\u001b[0;32m    205\u001b[0m \u001b[1;33m\u001b[0m\u001b[0m\n\u001b[0;32m    206\u001b[0m \u001b[1;33m\u001b[0m\u001b[0m\n",
            "\u001b[1;31mValueError\u001b[0m: Found input variables with inconsistent numbers of samples: [2, 400]"
          ]
        }
      ]
    },
    {
      "cell_type": "markdown",
      "metadata": {
        "id": "XGz62SJ0nhnl",
        "colab_type": "text"
      },
      "source": [
        "### Multilayer Perceptron"
      ]
    },
    {
      "cell_type": "markdown",
      "metadata": {
        "id": "H3R2NPT3nhnm",
        "colab_type": "text"
      },
      "source": [
        "El `param_grid` debe recorrer estos valores: `{'hidden_layer_sizes': [(10,),(5,5), (2,2)]}`"
      ]
    },
    {
      "cell_type": "code",
      "metadata": {
        "id": "tkbrOwHTnhnm",
        "colab_type": "code",
        "colab": {}
      },
      "source": [
        "# Realizá el entrenamiento en esta celda\n",
        "from sklearn.neural_network import MLPClassifier\n",
        "from sklearn.model_selection import GridSearchCV\n",
        "from sklearn.metrics import roc_curve, auc, roc_auc_score\n",
        "\n",
        "# Classifier\n",
        "clf_mlp = MLPClassifier()\n",
        "\n",
        "# Grid Search\n",
        "parameters = [{\n",
        "    'hidden_layer_sizes': [(10,),(5,5), (2,2)]\n",
        "}]\n",
        "grid_search_mlp = GridSearchCV(\n",
        "    estimator=clf_mlp, \n",
        "    param_grid=parameters, \n",
        "    cv=5, \n",
        "    scoring='roc_auc',\n",
        "    n_jobs=-1\n",
        ")\n",
        "grid_search_mlp.fit(vect_train, y_train)\n",
        "\n",
        "# Add to Grids List\n",
        "grids_search.append({'name': {'MultiLayer Preceptron'}, 'model': {grid_search_mlp}})"
      ],
      "execution_count": 0,
      "outputs": []
    },
    {
      "cell_type": "markdown",
      "metadata": {
        "id": "Wh6WbIjynhnp",
        "colab_type": "text"
      },
      "source": [
        "**6) Repetir** los mismos pasos utilizados con el anterior modelo pero esta vez para `Multilayer Perceptron`. Es decir, mostrar la matriz de confusión, scores, etc"
      ]
    },
    {
      "cell_type": "code",
      "metadata": {
        "id": "8WqrQ09-nhnq",
        "colab_type": "code",
        "colab": {}
      },
      "source": [
        "show_grid_clf_results(grid_search_mlp)"
      ],
      "execution_count": 0,
      "outputs": []
    },
    {
      "cell_type": "markdown",
      "metadata": {
        "id": "ZYifiWMjnhns",
        "colab_type": "text"
      },
      "source": [
        "### AdaBoost"
      ]
    },
    {
      "cell_type": "markdown",
      "metadata": {
        "id": "x3Ik24chnhnu",
        "colab_type": "text"
      },
      "source": [
        "El `param_grid` debe recorrer estos valores: `{'n_estimators': [50, 100, 500]}`"
      ]
    },
    {
      "cell_type": "code",
      "metadata": {
        "id": "WPTHvR5Rnhnv",
        "colab_type": "code",
        "colab": {}
      },
      "source": [
        "# Realizá el entrenamiento en esta celda\n",
        "from sklearn.ensemble import AdaBoostClassifier\n",
        "from sklearn.model_selection import GridSearchCV\n",
        "from sklearn.metrics import roc_curve, auc, roc_auc_score\n",
        "\n",
        "# Classifier\n",
        "clf_ada = AdaBoostClassifier()\n",
        "\n",
        "# Grid Search\n",
        "parameters = [{\n",
        "    'n_estimators': [50, 100, 500]\n",
        "}]\n",
        "grid_search_ada = GridSearchCV(\n",
        "    estimator=clf_ada, \n",
        "    param_grid=parameters, \n",
        "    cv=5, \n",
        "    scoring='roc_auc',\n",
        "    n_jobs=-1\n",
        ")\n",
        "grid_search_ada.fit(vect_train, y_train)\n",
        "\n",
        "# Add to Grids List\n",
        "grids_search.append({'name': {'AdaBoost'}, 'model': {grid_search_ada}})"
      ],
      "execution_count": 0,
      "outputs": []
    },
    {
      "cell_type": "markdown",
      "metadata": {
        "id": "8150v6j8nhnz",
        "colab_type": "text"
      },
      "source": [
        "**7) Repetir** los mismos pasos utilizados con el anterior modelo pero esta vez para `AdaBoost`. Es decir, mostrar la matriz de confusión, scores, etc"
      ]
    },
    {
      "cell_type": "code",
      "metadata": {
        "id": "LUpbTRp7nhn0",
        "colab_type": "code",
        "colab": {}
      },
      "source": [
        "show_grid_clf_results(grid_search_ada)"
      ],
      "execution_count": 0,
      "outputs": []
    },
    {
      "cell_type": "markdown",
      "metadata": {
        "id": "8-1RyhOBnhn2",
        "colab_type": "text"
      },
      "source": [
        "### Voting & Final Estimator"
      ]
    },
    {
      "cell_type": "markdown",
      "metadata": {
        "id": "tXMZSEQJnhn3",
        "colab_type": "text"
      },
      "source": [
        "__8) Armar un ensamble entre los cuatro modelos usando votación y medir el accuracy de cada uno de los modelos.__\n"
      ]
    },
    {
      "cell_type": "code",
      "metadata": {
        "id": "T-2L3gkknhn5",
        "colab_type": "code",
        "colab": {}
      },
      "source": [
        "from sklearn.metrics import accuracy_score\n",
        "\n",
        "from sklearn.ensemble import VotingClassifier\n",
        "\n",
        "voting_clf = VotingClassifier(\n",
        "    estimators=[\n",
        "        ('ADA', grid_search_ada.best_estimator_),\n",
        "        ('MLP', grid_search_mlp.best_estimator_),\n",
        "        ('LinearSvc', grid_search_svc.best_estimator_),\n",
        "        ('RF', grid_search_rf.best_estimator_),\n",
        "    ],\n",
        "    voting='hard'\n",
        ")\n",
        "\n",
        "voting_clf.fit(y_train, vect_train)"
      ],
      "execution_count": 0,
      "outputs": []
    },
    {
      "cell_type": "code",
      "metadata": {
        "id": "e_ok5B8KpeTX",
        "colab_type": "code",
        "colab": {}
      },
      "source": [
        "print ( 'ADA', accuracy_score(y_test, grid_search_ada.best_estimator_.predict(vect_test)))\n",
        "print ( 'MLP', accuracy_score(y_test, grid_search_mlp.best_estimator_.predict(vect_test)))\n",
        "print ( 'LinearSvc', accuracy_score(y_test, grid_search_svc.best_estimator_.predict(vect_test)))\n",
        "print ( 'RF', accuracy_score(y_test, grid_search_rf.best_estimator_.predict(vect_test)))\n",
        "print ( 'Voting',  voting_clf.predict(y_test, vect_test))\n",
        "\n",
        "# for grid in grids_search:\n",
        "#     print ( grid['name'], accuracy_score(y_test, grid['model'].best_estimator_.predict(X_test)))"
      ],
      "execution_count": 0,
      "outputs": []
    },
    {
      "cell_type": "markdown",
      "metadata": {
        "id": "naEsrNDdnhn9",
        "colab_type": "text"
      },
      "source": [
        "__9) Seleccioná el modelo__ que te haya dado el mejor score y utilizalo como tu modelo final. Reentrenalo con todos tus datos de entrenamiento.\n"
      ]
    },
    {
      "cell_type": "code",
      "metadata": {
        "id": "0Bn6n-8rnhn9",
        "colab_type": "code",
        "colab": {}
      },
      "source": [
        "eclf = grid_search_rf\n",
        "# Guardamos el modelo\n",
        "from sklearn.externals import joblib\n",
        "joblib.dump(eclf, 'sentiment.pkl') "
      ],
      "execution_count": 0,
      "outputs": []
    },
    {
      "cell_type": "markdown",
      "metadata": {
        "id": "Lvfb9SCsnhoA",
        "colab_type": "text"
      },
      "source": [
        "## Clasificación de reviews de Rocky 4."
      ]
    },
    {
      "cell_type": "markdown",
      "metadata": {
        "id": "3dKsBTjmnhoH",
        "colab_type": "text"
      },
      "source": [
        "A partir de [criticas de la película Rocky 4](https://www.rottentomatoes.com/m/rocky_iv/reviews/?type=user) veamos como las clasifica nuestro mejor modelo"
      ]
    },
    {
      "cell_type": "code",
      "metadata": {
        "id": "d5nvKOpInhoI",
        "colab_type": "code",
        "colab": {}
      },
      "source": [
        "reviews_new = [\"Stallone creates credible villains worthy of his heroic character.\",\n",
        "               \"Another brilliant Rocky film, probably my favourite one out of the lot\",\n",
        "               \"Yeah, this movie sucks.\",\n",
        "               \"My favourite rocky film! So good so much heart. Slightly better than 2\",\n",
        "               \"What has this got to do with boxing. Also everyone looked like dolls. Also if you are a real true boxing fan (not casuals), you would understand that this stupidity is no description of boxing!!\",\n",
        "               \"The new film's narrative is stripped down to essentials, which gives it an emblematic quality.\",\n",
        "               \"Absurdly ridiculous, this just isn't a good movie at all\", \n",
        "               \"Very basic and predictable but still an okay movie. No special music to save this one.\", \n",
        "              \"Rocky 4 is an extremely ambitious movie that is definitely worth watching.\",\n",
        "              'Highly beautiful',\n",
        "               \"If it wasn't for the robots (WTF????), and the painfully overwritten lines of an absurdly dogmatic persuasion, then this would otherwise be nothing more than an interminable series of mildly rousing montages. There are some unintentionally funny bits though, and Dolph's Ivan showcases the best and worst of all Rocky's opponents.\",\n",
        "              \"While all aspects of realism is thrown out the window, ROCKY IV is an adrenaline rush of action and excitment, with an incredible soundtrack and arguably the best movie fight in history between Balboa and Drago\",\n",
        "              \"Just like the songs, exercise routines and repetitive clips, it seems redundant to add another installment in this already falling franchise when you clearly lack material. Rocky IV is petty, childish and seems overlong despite of its 91 minutes of run time for it merely has an idea of a TV drama episode which is stretched to a point of exhaustion. Its painful to watch Sylvester Stallone go through this enormous amount of training and hardly make a point out there. He fails on all the levels here; writer, director and actor, to deliver any loose end of the thread for the audience to hang on to. Rocky IV is predictable, loosely written and choreographed and executed unsupervised.\"]\n",
        "reviews_new_counts = vectorizer.transform(reviews_new)\n",
        "reviews_new_tfidf = vectorizer.transform(reviews_new)"
      ],
      "execution_count": 0,
      "outputs": []
    },
    {
      "cell_type": "code",
      "metadata": {
        "id": "w3OCqdm9nhoL",
        "colab_type": "code",
        "colab": {}
      },
      "source": [
        "pred = eclf.predict(reviews_new_tfidf)"
      ],
      "execution_count": 0,
      "outputs": []
    },
    {
      "cell_type": "code",
      "metadata": {
        "id": "bW4hlTkInhoN",
        "colab_type": "code",
        "colab": {}
      },
      "source": [
        "for review, category in zip(reviews_new, pred):\n",
        "    print('%r => %s \\n' % (review, movie_reviews.target_names[category]))"
      ],
      "execution_count": 0,
      "outputs": []
    },
    {
      "cell_type": "markdown",
      "metadata": {
        "id": "OGGJk659nhoP",
        "colab_type": "text"
      },
      "source": [
        "# Same but with pipelines"
      ]
    },
    {
      "cell_type": "markdown",
      "metadata": {
        "id": "ARdbXMTYnhoQ",
        "colab_type": "text"
      },
      "source": [
        "## Function to optimize the Grid Search\n",
        "https://github.com/davidsbatista/machine-learning-notebooks/blob/master/hyperparameter-across-models.ipynb"
      ]
    },
    {
      "cell_type": "code",
      "metadata": {
        "id": "bRFyVvRAnhoR",
        "colab_type": "code",
        "colab": {}
      },
      "source": [
        "from sklearn.model_selection import GridSearchCV\n",
        "import numpy as np\n",
        "import pandas as pd\n",
        "\n",
        "class EstimatorSelectionHelper:\n",
        "    \n",
        "    def __init__(self, models, params):\n",
        "        self.models = models\n",
        "        self.params = params\n",
        "        self.keys = models.keys()\n",
        "        self.grid_searches = {}\n",
        "    \n",
        "    def fit(self, X, y, **grid_kwargs):\n",
        "        for key in self.keys:\n",
        "            print('Running GridSearchCV for %s.' % key)\n",
        "            model = self.models[key]\n",
        "            params = self.params[key]\n",
        "            grid_search = GridSearchCV(model, params, **grid_kwargs)\n",
        "            grid_search.fit(X, y)\n",
        "            self.grid_searches[key] = grid_search\n",
        "        print('Done.')\n",
        "    \n",
        "    def score_summary(self, sort_by='mean_test_score'):\n",
        "        frames = []\n",
        "        for name, grid_search in self.grid_searches.items():\n",
        "            frame = pd.DataFrame(grid_search.cv_results_)\n",
        "            frame = frame.filter(regex='^(?!.*param_).*$')\n",
        "            frame['estimator'] = len(frame)*[name]\n",
        "            frames.append(frame)\n",
        "        df = pd.concat(frames)\n",
        "        \n",
        "        df = df.sort_values([sort_by], ascending=False)\n",
        "        df = df.reset_index()\n",
        "        df = df.drop(['rank_test_score', 'index'], 1)\n",
        "        \n",
        "        columns = df.columns.tolist()\n",
        "        columns.remove('estimator')\n",
        "        columns = ['estimator']+columns\n",
        "        df = df[columns]\n",
        "        return df"
      ],
      "execution_count": 0,
      "outputs": []
    },
    {
      "cell_type": "markdown",
      "metadata": {
        "id": "MTvBzevdnhoT",
        "colab_type": "text"
      },
      "source": [
        "## Model Training"
      ]
    },
    {
      "cell_type": "code",
      "metadata": {
        "id": "2PyqkYiAnhoU",
        "colab_type": "code",
        "colab": {}
      },
      "source": [
        "from sklearn.svm import LinearSVC\n",
        "from sklearn.neural_network import MLPClassifier\n",
        "from sklearn.ensemble import RandomForestClassifier\n",
        "from sklearn.ensemble import AdaBoostClassifier\n",
        "\n",
        "from sklearn.model_selection import GridSearchCV\n",
        "\n",
        "from sklearn.pipeline import Pipeline\n",
        "\n",
        "# Corpus: Tokenization & Vectorization \n",
        "    # text_clf = Pipeline([\n",
        "    #     ('tfidf', TfidfVectorizer( input=corpus, analyzer='word', stop_words='english' )),\n",
        "    # ])\n",
        "    # text_clf.fit(corpus)  \n",
        "\n",
        "# Models Preparation\n",
        "models1 = {\n",
        "    'LinearSVC': LinearSVC(),\n",
        "    'RandomForestClassifier': RandomForestClassifier(),\n",
        "    'MLPClassifier': MLPClassifier(),\n",
        "    'AdaBoostClassifier': AdaBoostClassifier(),\n",
        "}\n",
        "# Hyper Params for Models\n",
        "params1 = {\n",
        "    'LinearSVC': { \n",
        "        'C':[0.001, 0.01, 0.1, 1, 10], \n",
        "        'loss':['hinge', 'squared_hinge'] \n",
        "    },\n",
        "    'RandomForestClassifier': { \n",
        "        'n_estimators': [100, 500, 1000],\n",
        "        'max_depth': [3, 7, None],\n",
        "        'min_samples_split': [2, 3, 10],\n",
        "        'bootstrap': [True, False],\n",
        "        'criterion': [\"gini\", \"entropy\"], \n",
        "    },\n",
        "    'MLPClassifier': { \n",
        "        'hidden_layer_sizes': [(10,),(5,5), (2,2)] \n",
        "    },\n",
        "    'AdaBoostClassifier':  { \n",
        "        'n_estimators': [50, 100, 500] \n",
        "    },\n",
        "}"
      ],
      "execution_count": 0,
      "outputs": []
    },
    {
      "cell_type": "markdown",
      "metadata": {
        "id": "n8M_sg2dp8jp",
        "colab_type": "text"
      },
      "source": [
        "## Picking fitest model"
      ]
    },
    {
      "cell_type": "code",
      "metadata": {
        "id": "MaZtj2gRnhoX",
        "colab_type": "code",
        "colab": {}
      },
      "source": [
        "# Fitting best estimator \n",
        "helper1 = EstimatorSelectionHelper(models1, params1)\n",
        "helper1.fit(vect_train, y_train, scoring='roc_auc', n_jobs=-1)\n",
        "helper1.score_summary()"
      ],
      "execution_count": 0,
      "outputs": []
    }
  ]
}